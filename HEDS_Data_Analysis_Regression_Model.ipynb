{
  "nbformat": 4,
  "nbformat_minor": 0,
  "metadata": {
    "colab": {
      "provenance": [],
      "authorship_tag": "ABX9TyOBansovQxl35zLSytuKMZ5",
      "include_colab_link": true
    },
    "kernelspec": {
      "name": "python3",
      "display_name": "Python 3"
    },
    "language_info": {
      "name": "python"
    }
  },
  "cells": [
    {
      "cell_type": "markdown",
      "metadata": {
        "id": "view-in-github",
        "colab_type": "text"
      },
      "source": [
        "<a href=\"https://colab.research.google.com/github/roccodecarolis/HEDS_DATA/blob/main/HEDS_Data_Analysis_Regression_Model.ipynb\" target=\"_parent\"><img src=\"https://colab.research.google.com/assets/colab-badge.svg\" alt=\"Open In Colab\"/></a>"
      ]
    },
    {
      "cell_type": "markdown",
      "source": [
        "**IRDR0042 - Humanitarian Engineering and Data Science**\n",
        "\n",
        "*Coursework 2 - Individual Report*"
      ],
      "metadata": {
        "id": "QWmkBROW9Tea"
      }
    },
    {
      "cell_type": "code",
      "execution_count": null,
      "metadata": {
        "id": "Hr-lagR454ks"
      },
      "outputs": [],
      "source": [
        "#first thing import libraries"
      ]
    },
    {
      "cell_type": "code",
      "source": [
        "import pandas as pd\n",
        "import numpy as np\n",
        "from sklearn.linear_model import LinearRegression\n",
        "from sklearn.model_selection import train_test_split\n",
        "from sklearn import metrics\n",
        "import matplotlib.pyplot as plt"
      ],
      "metadata": {
        "id": "1p7UBzoH6Tgz"
      },
      "execution_count": null,
      "outputs": []
    },
    {
      "cell_type": "code",
      "source": [
        "#now import the previously cleaned Final Dataset from GitHub"
      ],
      "metadata": {
        "id": "QTRcSyuC6OCK"
      },
      "execution_count": null,
      "outputs": []
    },
    {
      "cell_type": "code",
      "source": [
        "filePath = 'https://raw.githubusercontent.com/roccodecarolis/HEDS_DATA/refs/heads/main/Final_Dataset.csv'\n",
        "Dataset = pd.read_csv(filePath)"
      ],
      "metadata": {
        "id": "88qSwwp36aWZ"
      },
      "execution_count": null,
      "outputs": []
    },
    {
      "cell_type": "code",
      "source": [
        "#explore data, check for anomalies and make some visualization"
      ],
      "metadata": {
        "id": "fgookGYq6awt"
      },
      "execution_count": null,
      "outputs": []
    },
    {
      "cell_type": "code",
      "source": [],
      "metadata": {
        "id": "kxBdCXDt6fcf"
      },
      "execution_count": null,
      "outputs": []
    },
    {
      "cell_type": "code",
      "source": [
        "#prepare the data - define dependent variable and predictors"
      ],
      "metadata": {
        "id": "-I21cuEO6f3M"
      },
      "execution_count": null,
      "outputs": []
    },
    {
      "cell_type": "code",
      "source": [],
      "metadata": {
        "id": "tZ4RinIv6tDn"
      },
      "execution_count": null,
      "outputs": []
    },
    {
      "cell_type": "code",
      "source": [
        "#split the data into train/test"
      ],
      "metadata": {
        "id": "lVE_05FK6tVZ"
      },
      "execution_count": null,
      "outputs": []
    },
    {
      "cell_type": "code",
      "source": [],
      "metadata": {
        "id": "hMTMR-lV6v_v"
      },
      "execution_count": null,
      "outputs": []
    },
    {
      "cell_type": "code",
      "source": [
        "#fit the Linear Regression Model"
      ],
      "metadata": {
        "id": "s3-i5LTT8KrS"
      },
      "execution_count": null,
      "outputs": []
    },
    {
      "cell_type": "code",
      "source": [],
      "metadata": {
        "id": "JIqFqVZQ8S-m"
      },
      "execution_count": null,
      "outputs": []
    },
    {
      "cell_type": "code",
      "source": [
        "#now: train the linear regression model"
      ],
      "metadata": {
        "id": "u8LW5b686wVn"
      },
      "execution_count": null,
      "outputs": []
    },
    {
      "cell_type": "code",
      "source": [],
      "metadata": {
        "id": "7Syoo2zq7DWP"
      },
      "execution_count": null,
      "outputs": []
    },
    {
      "cell_type": "code",
      "source": [
        "#make predictions and evaluate the model"
      ],
      "metadata": {
        "id": "abQ0H0PQ7Dr5"
      },
      "execution_count": null,
      "outputs": []
    },
    {
      "cell_type": "code",
      "source": [],
      "metadata": {
        "id": "c6e_iNLZ7H6z"
      },
      "execution_count": null,
      "outputs": []
    },
    {
      "cell_type": "code",
      "source": [
        "#visualization of predictions vs actual"
      ],
      "metadata": {
        "id": "0E5ia81J7Ibm"
      },
      "execution_count": null,
      "outputs": []
    },
    {
      "cell_type": "code",
      "source": [],
      "metadata": {
        "id": "hErIpds07Nh2"
      },
      "execution_count": null,
      "outputs": []
    },
    {
      "cell_type": "code",
      "source": [
        "#coefficients"
      ],
      "metadata": {
        "id": "2xQG5cTV7N3Y"
      },
      "execution_count": null,
      "outputs": []
    },
    {
      "cell_type": "code",
      "source": [],
      "metadata": {
        "id": "6QrOLmRE7PXL"
      },
      "execution_count": null,
      "outputs": []
    },
    {
      "cell_type": "code",
      "source": [
        "#now I am ready for interpretation"
      ],
      "metadata": {
        "id": "ng_2yz9U7PuT"
      },
      "execution_count": null,
      "outputs": []
    }
  ]
}